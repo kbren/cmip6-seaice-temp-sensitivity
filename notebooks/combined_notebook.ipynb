{
 "cells": [
  {
   "cell_type": "code",
   "execution_count": 1,
   "metadata": {},
   "outputs": [
    {
     "name": "stderr",
     "output_type": "stream",
     "text": [
      "/srv/conda/envs/notebook/lib/python3.7/site-packages/intake/source/discovery.py:136: FutureWarning: The drivers ['stac-catalog', 'stac-collection', 'stac-item'] do not specify entry_points and were only discovered via a package scan. This may break in a future release of intake. The packages should be updated.\n",
      "  FutureWarning)\n"
     ]
    }
   ],
   "source": [
    "%matplotlib inline\n",
    "\n",
    "import intake\n",
    "import matplotlib.pyplot as plt\n",
    "import numpy as np\n",
    "import xarray as xr\n",
    "\n",
    "import util\n",
    "import siutils as si"
   ]
  },
  {
   "cell_type": "code",
   "execution_count": 17,
   "metadata": {},
   "outputs": [
    {
     "data": {
      "text/plain": [
       "<module 'siutils' from '/home/jovyan/cmip6-seaice-temp-sensitivity/notebooks/siutils.py'>"
      ]
     },
     "execution_count": 17,
     "metadata": {},
     "output_type": "execute_result"
    }
   ],
   "source": [
    "import importlib\n",
    "importlib.reload(si)"
   ]
  },
  {
   "cell_type": "markdown",
   "metadata": {},
   "source": [
    "#### Get full catalogue of CMIP6 data on glade or cloud"
   ]
  },
  {
   "cell_type": "code",
   "execution_count": 3,
   "metadata": {},
   "outputs": [],
   "source": [
    "if util.is_ncar_host():\n",
    "    col = intake.open_esm_datastore(\"../catalogs/glade-cmip6.json\")\n",
    "else:\n",
    "    col = intake.open_esm_datastore(\"../catalogs/pangeo-cmip6.json\")"
   ]
  },
  {
   "cell_type": "markdown",
   "metadata": {},
   "source": [
    "### Find file names for various specifications"
   ]
  },
  {
   "cell_type": "code",
   "execution_count": 4,
   "metadata": {},
   "outputs": [],
   "source": [
    "cat_siconc = col.search(experiment_id=['historical'],table_id='SImon', \n",
    "                        variable_id='siconc', grid_label='gn')\n",
    "\n",
    "cat_cellarea = col.search(experiment_id=['historical'],table_id='Ofx', \n",
    "                          variable_id='areacello', grid_label='gn')\n",
    "\n",
    "cat_tas = col.search(experiment_id=['historical'],table_id='Amon', \n",
    "                          variable_id='tas', grid_label='gn')"
   ]
  },
  {
   "cell_type": "markdown",
   "metadata": {},
   "source": [
    "#### Find where models contain all necessary variables"
   ]
  },
  {
   "cell_type": "code",
   "execution_count": 5,
   "metadata": {},
   "outputs": [],
   "source": [
    "uni_dict = col.unique(['source_id', 'experiment_id', 'table_id'])\n",
    "\n",
    "models_intersect = set(uni_dict['source_id']['values']) # all the models\n",
    "table_id = ['SImon','Ofx','Amon']\n",
    "var_list = ['siconc','areacello','tas']\n",
    "exp = 'historical'\n",
    "\n",
    "models_intersect = si.find_overlap_models(var_list,exp,table_id,models_intersect,col)"
   ]
  },
  {
   "cell_type": "markdown",
   "metadata": {},
   "source": [
    "### Set single model to look at"
   ]
  },
  {
   "cell_type": "code",
   "execution_count": 6,
   "metadata": {},
   "outputs": [],
   "source": [
    "m=models_intersect[0] #Will loop over all of these later"
   ]
  },
  {
   "cell_type": "markdown",
   "metadata": {},
   "source": [
    "### Load data: "
   ]
  },
  {
   "cell_type": "code",
   "execution_count": 7,
   "metadata": {},
   "outputs": [
    {
     "name": "stdout",
     "output_type": "stream",
     "text": [
      "--> The keys in the returned dictionary of datasets are constructed as follows:\n",
      "\t'activity_id.institution_id.source_id.experiment_id.table_id.grid_label'\n",
      "\n",
      "--> There will be 13 group(s)\n"
     ]
    }
   ],
   "source": [
    "ardset_dict = cat_cellarea.to_dataset_dict(zarr_kwargs={'consolidated': True, 'decode_times': True}, \n",
    "                                           cdf_kwargs={'chunks': {}, 'decode_times': True})"
   ]
  },
  {
   "cell_type": "code",
   "execution_count": 8,
   "metadata": {},
   "outputs": [
    {
     "name": "stdout",
     "output_type": "stream",
     "text": [
      "--> The keys in the returned dictionary of datasets are constructed as follows:\n",
      "\t'activity_id.institution_id.source_id.experiment_id.table_id.grid_label'\n",
      "\n",
      "--> There will be 18 group(s)\n"
     ]
    }
   ],
   "source": [
    "sidset_dict = cat_siconc.to_dataset_dict(zarr_kwargs={'consolidated': True, 'decode_times': True}, \n",
    "                                         cdf_kwargs={'chunks': {}, 'decode_times': True})"
   ]
  },
  {
   "cell_type": "code",
   "execution_count": 9,
   "metadata": {},
   "outputs": [
    {
     "name": "stdout",
     "output_type": "stream",
     "text": [
      "--> The keys in the returned dictionary of datasets are constructed as follows:\n",
      "\t'activity_id.institution_id.source_id.experiment_id.table_id.grid_label'\n",
      "\n",
      "--> There will be 18 group(s)\n"
     ]
    }
   ],
   "source": [
    "tasdset_dict = cat_tas.to_dataset_dict(zarr_kwargs={'consolidated': True, 'decode_times': True}, \n",
    "                                         cdf_kwargs={'chunks': {}, 'decode_times': True})"
   ]
  },
  {
   "cell_type": "code",
   "execution_count": 10,
   "metadata": {},
   "outputs": [],
   "source": [
    "# Creates dictionary relating model names to file names\n",
    "amodel_name_dict = {ardset_dict[x].attrs['source_id']: x for x in ardset_dict}\n",
    "smodel_name_dict = {sidset_dict[x].attrs['source_id']: x for x in sidset_dict}\n",
    "tmodel_name_dict = {tasdset_dict[x].attrs['source_id']: x for x in tasdset_dict}"
   ]
  },
  {
   "cell_type": "code",
   "execution_count": 11,
   "metadata": {},
   "outputs": [],
   "source": [
    "# Adding areacello as variable in other datasets and making key of dataset model name\n",
    "si_dict_temp = {}\n",
    "tas_dict = {}\n",
    "\n",
    "for key, item in sidset_dict.items():\n",
    "    model = item.attrs['source_id']\n",
    "    if model in models_intersect: \n",
    "        si_dict_temp[model] = item\n",
    "        si_dict_temp[model]['areacello'] = ardset_dict[amodel_name_dict[model]]['areacello']\n",
    "        tas_dict[model] = tasdset_dict[tmodel_name_dict[model]]"
   ]
  },
  {
   "cell_type": "code",
   "execution_count": 12,
   "metadata": {},
   "outputs": [],
   "source": [
    "# Rename dimensions so they're all the same: \n",
    "si_dict = {}\n",
    "for m in models_intersect:\n",
    "    si_dict[m] = si.rename_dimensions(si_dict_temp[m],si_dict)"
   ]
  },
  {
   "cell_type": "markdown",
   "metadata": {},
   "source": [
    "#### Calculate extent: "
   ]
  },
  {
   "cell_type": "code",
   "execution_count": 18,
   "metadata": {},
   "outputs": [
    {
     "name": "stderr",
     "output_type": "stream",
     "text": [
      "/srv/conda/envs/notebook/lib/python3.7/site-packages/dask/core.py:119: RuntimeWarning: invalid value encountered in greater\n",
      "  return func(*args2)\n"
     ]
    },
    {
     "data": {
      "text/plain": [
       "[<matplotlib.lines.Line2D at 0x7f226e97ae80>]"
      ]
     },
     "execution_count": 18,
     "metadata": {},
     "output_type": "execute_result"
    },
    {
     "data": {
      "image/png": "[encoded data removed]",
      "text/plain": [
       "<Figure size 432x288 with 1 Axes>"
      ]
     },
     "metadata": {
      "needs_background": "light"
     },
     "output_type": "display_data"
    }
   ],
   "source": [
    "ts_Arctic_extent = si.Arctic_SIextent(si_dict[m]['siconc'], si_dict[m]['areacello'], 0)\n",
    "ts_Arctic_extent.plot()"
   ]
  },
  {
   "cell_type": "code",
   "execution_count": null,
   "metadata": {},
   "outputs": [],
   "source": []
  },
  {
   "cell_type": "code",
   "execution_count": 19,
   "metadata": {},
   "outputs": [],
   "source": [
    "####### STILL HAVE TO DO AREA WEIGHTING FOR TEMPERATURE ########"
   ]
  },
  {
   "cell_type": "code",
   "execution_count": null,
   "metadata": {},
   "outputs": [],
   "source": []
  },
  {
   "cell_type": "markdown",
   "metadata": {},
   "source": [
    "#### Take mean across years: "
   ]
  },
  {
   "cell_type": "code",
   "execution_count": 24,
   "metadata": {},
   "outputs": [],
   "source": [
    "month_lab = ['Jan','Feb','Mar','Apr','May','June','Jul','Aug','Sept','Oct','Nov','Dec']"
   ]
  },
  {
   "cell_type": "code",
   "execution_count": 16,
   "metadata": {},
   "outputs": [],
   "source": [
    "si_mon = si_dict[m]['si_area_tot_arc']\n",
    "si_mon_mn = si_mon.groupby('time.month').mean('time').isel(member_id=0)\n",
    "si_mon_std = si_mon.groupby('time.month').std().isel(member_id=0)\n",
    "\n",
    "sie_mon = si_dict[m]['si_extent_tot_nh']\n",
    "sie_mon_mn = sie_mon.groupby('time.month').mean('time').isel(member_id=0)"
   ]
  },
  {
   "cell_type": "code",
   "execution_count": 17,
   "metadata": {},
   "outputs": [
    {
     "name": "stderr",
     "output_type": "stream",
     "text": [
      "/srv/conda/envs/notebook/lib/python3.7/site-packages/dask/core.py:119: RuntimeWarning: invalid value encountered in greater\n",
      "  return func(*args2)\n"
     ]
    },
    {
     "data": {
      "text/plain": [
       "<matplotlib.legend.Legend at 0x7f80d69a5be0>"
      ]
     },
     "execution_count": 17,
     "metadata": {},
     "output_type": "execute_result"
    },
    {
     "data": {
      "image/png": "[encoded data removed]",
      "text/plain": [
       "<Figure size 432x288 with 1 Axes>"
      ]
     },
     "metadata": {
      "needs_background": "light"
     },
     "output_type": "display_data"
    }
   ],
   "source": [
    "si_mon_mn.plot(label='sia mean')\n",
    "sie_mon_mn.plot(label='sie mean')\n",
    "#plt.fill_between(si_mon_mn.month,si_mon_mn-2*si_mon_std,si_mon_mn+2*si_mon_std,alpha=0.3)\n",
    "plt.xticks(np.arange(1,13,1), month_lab)\n",
    "plt.ylabel('Arctic sea ice concentration (km$^{2}$)')\n",
    "plt.title('Total Arctic sea ice concentration: '+m)\n",
    "plt.legend()"
   ]
  },
  {
   "cell_type": "markdown",
   "metadata": {},
   "source": [
    "### Calculate average Arctic surface temperature"
   ]
  },
  {
   "cell_type": "code",
   "execution_count": 38,
   "metadata": {},
   "outputs": [
    {
     "data": {
      "text/plain": [
       "[<matplotlib.lines.Line2D at 0x7f80cf55e940>]"
      ]
     },
     "execution_count": 38,
     "metadata": {},
     "output_type": "execute_result"
    },
    {
     "data": {
      "image/png": "[encoded data removed]",
      "text/plain": [
       "<Figure size 432x288 with 1 Axes>"
      ]
     },
     "metadata": {
      "needs_background": "light"
     },
     "output_type": "display_data"
    }
   ],
   "source": [
    "ts_tas_ArcticAve = si.AverageArctic_airtemperature(tas_dict[m]['tas'],0)\n",
    "ts_tas_ArcticAve.plot()"
   ]
  },
  {
   "cell_type": "code",
   "execution_count": 19,
   "metadata": {},
   "outputs": [],
   "source": [
    "def arctic_mean(VAR_DICT,VAR,MIN_LAT):\n",
    "    ones_full = np.ones((VAR.isel(time=0,member_id=0).shape))\n",
    "    area_weight = np.cos(np.deg2rad(VAR_DICT.lat)).expand_dims('lon',axis=1)*ones_full\n",
    "\n",
    "    var_armn = (VAR*area_weight).sel(lat=slice(MIN_LAT,90)).sum(\n",
    "        dim=['lat','lon'])/(area_weight.sel(lat=slice(MIN_LAT,90)).sum(dim=['lat','lon']))\n",
    "    return var_armn"
   ]
  },
  {
   "cell_type": "code",
   "execution_count": null,
   "metadata": {},
   "outputs": [],
   "source": []
  }
 ],
 "metadata": {
  "kernelspec": {
   "display_name": "Python 3",
   "language": "python",
   "name": "python3"
  },
  "language_info": {
   "codemirror_mode": {
    "name": "ipython",
    "version": 3
   },
   "file_extension": ".py",
   "mimetype": "text/x-python",
   "name": "python",
   "nbconvert_exporter": "python",
   "pygments_lexer": "ipython3",
   "version": "3.7.3"
  }
 },
 "nbformat": 4,
 "nbformat_minor": 4
}
