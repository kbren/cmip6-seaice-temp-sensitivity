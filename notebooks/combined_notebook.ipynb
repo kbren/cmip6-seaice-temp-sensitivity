{
 "cells": [
  {
   "cell_type": "markdown",
   "metadata": {},
   "source": [
    "# Sea ice sensitivity to temperature in CMIP6 Models: \n",
    "\n",
    "CMIP6 Hackathon UW  \n",
    "October 2019  \n",
    "Robin Clancy, Maddie Smith, Katie Brennan, and Ed Blanchard \n",
    "  \n",
    "#### Motivation:\n",
    "The state of global sea ice is strongly related to changes in the mean temperature. This is in part a result of the sea ice-albedo feedback, which amplities ice loss with increases in Arctic air temperature. \n",
    "Various studies have shown that Arctic sea ice loss is underestimated when compared to observations in previous CMIPs (i.e. Stroeve et al., 2012). It's unclear if this is due to differences in Arctic warming or differences in the sensitivity of sea ice concentrations to warming.\n",
    "\n",
    "#### Goals:\n",
    "Here we aim to quantify the senstivity between Arctic surface air temperature and sea ice across different models. We want to investigate: how strong is this relationship, what is the seasonal variation in the relationship, and how much variability is there across models. \n"
   ]
  },
  {
   "cell_type": "code",
   "execution_count": 1,
   "metadata": {},
   "outputs": [
    {
     "name": "stderr",
     "output_type": "stream",
     "text": [
      "/srv/conda/envs/notebook/lib/python3.7/site-packages/intake/source/discovery.py:136: FutureWarning: The drivers ['stac-catalog', 'stac-collection', 'stac-item'] do not specify entry_points and were only discovered via a package scan. This may break in a future release of intake. The packages should be updated.\n",
      "  FutureWarning)\n"
     ]
    }
   ],
   "source": [
    "%matplotlib inline\n",
    "\n",
    "import intake\n",
    "import matplotlib.pyplot as plt\n",
    "import numpy as np\n",
    "import xarray as xr\n",
    "from scipy import stats\n",
    "\n",
    "import util\n",
    "import siutils as si"
   ]
  },
  {
   "cell_type": "code",
   "execution_count": 2,
   "metadata": {},
   "outputs": [
    {
     "data": {
      "text/plain": [
       "<module 'siutils' from '/home/jovyan/v2/cmip6-seaice-temp-sensitivity/notebooks/siutils.py'>"
      ]
     },
     "execution_count": 2,
     "metadata": {},
     "output_type": "execute_result"
    }
   ],
   "source": [
    "import importlib\n",
    "importlib.reload(si)"
   ]
  },
  {
   "cell_type": "code",
   "execution_count": 3,
   "metadata": {},
   "outputs": [
    {
     "name": "stdout",
     "output_type": "stream",
     "text": [
      "0.19021923766567642\n"
     ]
    }
   ],
   "source": [
    "import os\n",
    "import psutil\n",
    "process = psutil.Process(os.getpid())\n",
    "print(process.memory_percent())"
   ]
  },
  {
   "cell_type": "markdown",
   "metadata": {},
   "source": [
    "### Find data: "
   ]
  },
  {
   "cell_type": "code",
   "execution_count": 4,
   "metadata": {},
   "outputs": [],
   "source": [
    "#Get full catalogue of CMIP6 data on glade or cloud\n",
    "if util.is_ncar_host():\n",
    "    col = intake.open_esm_datastore(\"../catalogs/glade-cmip6.json\")\n",
    "else:\n",
    "    col = intake.open_esm_datastore(\"../catalogs/pangeo-cmip6.json\")"
   ]
  },
  {
   "cell_type": "code",
   "execution_count": 5,
   "metadata": {},
   "outputs": [],
   "source": [
    "# Find file names for various specifications\n",
    "cat_siconc = col.search(experiment_id=['historical'],table_id='SImon', \n",
    "                        variable_id='siconc', grid_label='gn')\n",
    "\n",
    "cat_cellarea = col.search(experiment_id=['historical'],table_id='Ofx', \n",
    "                          variable_id='areacello', grid_label='gn')\n",
    "\n",
    "cat_tas = col.search(experiment_id=['historical'],table_id='Amon', \n",
    "                          variable_id='tas', grid_label='gn')"
   ]
  },
  {
   "cell_type": "code",
   "execution_count": 6,
   "metadata": {},
   "outputs": [],
   "source": [
    "# Find where models contain all necessary variables\n",
    "uni_dict = col.unique(['source_id', 'experiment_id', 'table_id'])\n",
    "\n",
    "models_intersect = set(uni_dict['source_id']['values']) # all the models\n",
    "table_id = ['SImon','Ofx','Amon']\n",
    "var_list = ['siconc','areacello','tas']\n",
    "exp = 'historical'\n",
    "\n",
    "models_intersect = si.find_overlap_models(var_list,exp,table_id,models_intersect,col)"
   ]
  },
  {
   "cell_type": "code",
   "execution_count": 7,
   "metadata": {},
   "outputs": [
    {
     "name": "stdout",
     "output_type": "stream",
     "text": [
      "0.2169016922904003\n"
     ]
    }
   ],
   "source": [
    "process = psutil.Process(os.getpid())\n",
    "print(process.memory_percent())"
   ]
  },
  {
   "cell_type": "markdown",
   "metadata": {},
   "source": [
    "### Load data: "
   ]
  },
  {
   "cell_type": "code",
   "execution_count": 8,
   "metadata": {},
   "outputs": [
    {
     "name": "stdout",
     "output_type": "stream",
     "text": [
      "--> The keys in the returned dictionary of datasets are constructed as follows:\n",
      "\t'activity_id.institution_id.source_id.experiment_id.table_id.grid_label'\n",
      "\n",
      "--> There will be 14 group(s)\n"
     ]
    }
   ],
   "source": [
    "ardset_dict = cat_cellarea.to_dataset_dict(zarr_kwargs={'consolidated': True, 'decode_times': True}, \n",
    "                                           cdf_kwargs={'chunks': {}, 'decode_times': True})"
   ]
  },
  {
   "cell_type": "code",
   "execution_count": 9,
   "metadata": {},
   "outputs": [
    {
     "name": "stdout",
     "output_type": "stream",
     "text": [
      "--> The keys in the returned dictionary of datasets are constructed as follows:\n",
      "\t'activity_id.institution_id.source_id.experiment_id.table_id.grid_label'\n",
      "\n",
      "--> There will be 17 group(s)\n"
     ]
    }
   ],
   "source": [
    "sidset_dict = cat_siconc.to_dataset_dict(zarr_kwargs={'consolidated': True, 'decode_times': True}, \n",
    "                                         cdf_kwargs={'chunks': {}, 'decode_times': True})"
   ]
  },
  {
   "cell_type": "code",
   "execution_count": 10,
   "metadata": {},
   "outputs": [
    {
     "name": "stdout",
     "output_type": "stream",
     "text": [
      "--> The keys in the returned dictionary of datasets are constructed as follows:\n",
      "\t'activity_id.institution_id.source_id.experiment_id.table_id.grid_label'\n",
      "\n",
      "--> There will be 18 group(s)\n"
     ]
    }
   ],
   "source": [
    "tasdset_dict = cat_tas.to_dataset_dict(zarr_kwargs={'consolidated': True, 'decode_times': True}, \n",
    "                                         cdf_kwargs={'chunks': {}, 'decode_times': True})"
   ]
  },
  {
   "cell_type": "code",
   "execution_count": 11,
   "metadata": {},
   "outputs": [
    {
     "name": "stdout",
     "output_type": "stream",
     "text": [
      "0.28297945797809865\n"
     ]
    }
   ],
   "source": [
    "process = psutil.Process(os.getpid())\n",
    "print(process.memory_percent())"
   ]
  },
  {
   "cell_type": "markdown",
   "metadata": {},
   "source": [
    "#### Clean data: "
   ]
  },
  {
   "cell_type": "code",
   "execution_count": 12,
   "metadata": {},
   "outputs": [],
   "source": [
    "# Creates dictionary relating model names to file names\n",
    "amodel_name_dict = {ardset_dict[x].attrs['source_id']: x for x in ardset_dict}\n",
    "smodel_name_dict = {sidset_dict[x].attrs['source_id']: x for x in sidset_dict}\n",
    "tmodel_name_dict = {tasdset_dict[x].attrs['source_id']: x for x in tasdset_dict}"
   ]
  },
  {
   "cell_type": "code",
   "execution_count": 13,
   "metadata": {},
   "outputs": [],
   "source": [
    "# Adding areacello as variable in other datasets and making key of dataset model name\n",
    "si_dict_temp = {}\n",
    "tas_dict = {}\n",
    "\n",
    "for key, item in sidset_dict.items():\n",
    "    model = item.attrs['source_id']\n",
    "    if model in models_intersect: \n",
    "        si_dict_temp[model] = item\n",
    "        si_dict_temp[model]['areacello'] = ardset_dict[amodel_name_dict[model]]['areacello']\n",
    "        tas_dict[model] = tasdset_dict[tmodel_name_dict[model]]"
   ]
  },
  {
   "cell_type": "code",
   "execution_count": 14,
   "metadata": {},
   "outputs": [],
   "source": [
    "# Rename dimensions so they're all the same: \n",
    "si_dict = {}\n",
    "for m in models_intersect:\n",
    "    si_dict[m] = si.rename_dimensions(si_dict_temp[m],si_dict)"
   ]
  },
  {
   "cell_type": "markdown",
   "metadata": {},
   "source": [
    "#### Calculate total Arctic sea ice extent and mean Arctic temperature: "
   ]
  },
  {
   "cell_type": "code",
   "execution_count": 15,
   "metadata": {},
   "outputs": [],
   "source": [
    "for m in models_intersect:\n",
    "    si_dict[m]['sie_tot_arc'] = si.Arctic_SIextent(si_dict[m]['siconc'], si_dict[m]['areacello'])\n",
    "    tas_dict[m]['tas_arc_mean'] = si.arctic_mean(tas_dict[m],tas_dict[m].tas,70)"
   ]
  },
  {
   "cell_type": "code",
   "execution_count": 16,
   "metadata": {},
   "outputs": [
    {
     "name": "stdout",
     "output_type": "stream",
     "text": [
      "0.2831137093221225\n"
     ]
    }
   ],
   "source": [
    "process = psutil.Process(os.getpid())\n",
    "print(process.memory_percent())"
   ]
  },
  {
   "cell_type": "markdown",
   "metadata": {},
   "source": [
    "### Plots: "
   ]
  },
  {
   "cell_type": "code",
   "execution_count": 73,
   "metadata": {},
   "outputs": [],
   "source": [
    "def scatter_tas_SIE_linreg_test(TAS_ARCTIC_IN,SIE_ARCTIC_IN,MONTHS_IN,PLOTFLAG,MODEL):\n",
    "    import calendar\n",
    "    \n",
    "    if PLOTFLAG == True:\n",
    "        fig = plt.figure(figsize=(12,5))\n",
    "        \n",
    "    slopes_all = {}\n",
    "    r_all = {}    \n",
    "    for m,mi in enumerate(MONTHS_IN):\n",
    "        CESM_airtemp_mi = TAS_ARCTIC_IN[mi::12].values\n",
    "        CESM_extent_mi = SIE_ARCTIC_IN[mi::12].isel(time=slice(0,165)).values\n",
    "        process = psutil.Process(os.getpid())\n",
    "        print('after loading arrays: '+str(process.memory_percent()))\n",
    "        monthname = calendar.month_name[mi+1]\n",
    "\n",
    "        [slope,\n",
    "         intercept,\n",
    "         r_value, \n",
    "         p_value, \n",
    "         std_err] = stats.linregress(TAS_ARCTIC_IN[mi::12],\n",
    "                                     SIE_ARCTIC_IN[mi::12].isel(time=slice(0,165))/1e12)\n",
    "        process = psutil.Process(os.getpid())\n",
    "        print('after calling stats.linregress: '+str(process.memory_percent()))\n",
    "        \n",
    "        slopes_all[mi] = slope\n",
    "        r_all[mi] = r_value\n",
    "        \n",
    "        if PLOTFLAG == True:\n",
    "            ax = fig.add_subplot(1,len(MONTHS_IN),m+1)\n",
    "            ax.scatter(CESM_airtemp_mi,CESM_extent_mi/1e12)\n",
    "            ax.plot(CESM_airtemp_mi, intercept + slope*CESM_airtemp_mi, 'r')\n",
    "            ax.set_title(monthname+', slope: %f  ' % (slope))\n",
    "            #print(\"slope: %f  \" % (slope))\n",
    "            ax.set_xlabel('Temp (K)')\n",
    "            ax.set_ylabel('SIE (millions km$^2$)')\n",
    "            fig.suptitle(MODEL)\n",
    "\n",
    "    if PLOTFLAG == True:\n",
    "        plt.show()\n",
    "        \n",
    "    del CESM_airtemp_mi\n",
    "    del CESM_extent_mi\n",
    "    print(slopes_all)\n",
    "    \n",
    "    return slopes_all, r_all"
   ]
  },
  {
   "cell_type": "code",
   "execution_count": 74,
   "metadata": {},
   "outputs": [],
   "source": [
    "slopes_all={}\n",
    "r_all={}"
   ]
  },
  {
   "cell_type": "code",
   "execution_count": 75,
   "metadata": {},
   "outputs": [
    {
     "name": "stdout",
     "output_type": "stream",
     "text": [
      "SAM0-UNICON\n"
     ]
    },
    {
     "name": "stderr",
     "output_type": "stream",
     "text": [
      "/srv/conda/envs/notebook/lib/python3.7/site-packages/dask/core.py:119: RuntimeWarning: invalid value encountered in greater\n",
      "  return func(*args2)\n"
     ]
    },
    {
     "name": "stdout",
     "output_type": "stream",
     "text": [
      "after loading arrays: 2.278812147091441\n"
     ]
    },
    {
     "name": "stderr",
     "output_type": "stream",
     "text": [
      "/srv/conda/envs/notebook/lib/python3.7/site-packages/dask/core.py:119: RuntimeWarning: invalid value encountered in greater\n",
      "  return func(*args2)\n"
     ]
    },
    {
     "name": "stdout",
     "output_type": "stream",
     "text": [
      "after calling stats.linregress: 2.278812147091441\n"
     ]
    },
    {
     "name": "stderr",
     "output_type": "stream",
     "text": [
      "/srv/conda/envs/notebook/lib/python3.7/site-packages/dask/core.py:119: RuntimeWarning: invalid value encountered in greater\n",
      "  return func(*args2)\n"
     ]
    },
    {
     "name": "stdout",
     "output_type": "stream",
     "text": [
      "after loading arrays: 2.293162124085981\n"
     ]
    },
    {
     "name": "stderr",
     "output_type": "stream",
     "text": [
      "/srv/conda/envs/notebook/lib/python3.7/site-packages/dask/core.py:119: RuntimeWarning: invalid value encountered in greater\n",
      "  return func(*args2)\n"
     ]
    },
    {
     "name": "stdout",
     "output_type": "stream",
     "text": [
      "after calling stats.linregress: 2.293162124085981\n",
      "{2: -0.09876842487877445, 8: -0.39225191529142084}\n",
      "MIROC6\n"
     ]
    },
    {
     "name": "stderr",
     "output_type": "stream",
     "text": [
      "/srv/conda/envs/notebook/lib/python3.7/site-packages/dask/core.py:119: RuntimeWarning: invalid value encountered in greater\n",
      "  return func(*args2)\n"
     ]
    },
    {
     "name": "stdout",
     "output_type": "stream",
     "text": [
      "after loading arrays: 2.293162124085981\n"
     ]
    },
    {
     "name": "stderr",
     "output_type": "stream",
     "text": [
      "/srv/conda/envs/notebook/lib/python3.7/site-packages/dask/core.py:119: RuntimeWarning: invalid value encountered in greater\n",
      "  return func(*args2)\n"
     ]
    },
    {
     "name": "stdout",
     "output_type": "stream",
     "text": [
      "after calling stats.linregress: 2.293162124085981\n"
     ]
    },
    {
     "name": "stderr",
     "output_type": "stream",
     "text": [
      "/srv/conda/envs/notebook/lib/python3.7/site-packages/dask/core.py:119: RuntimeWarning: invalid value encountered in greater\n",
      "  return func(*args2)\n"
     ]
    },
    {
     "name": "stdout",
     "output_type": "stream",
     "text": [
      "after loading arrays: 2.293162124085981\n"
     ]
    },
    {
     "name": "stderr",
     "output_type": "stream",
     "text": [
      "/srv/conda/envs/notebook/lib/python3.7/site-packages/dask/core.py:119: RuntimeWarning: invalid value encountered in greater\n",
      "  return func(*args2)\n"
     ]
    },
    {
     "name": "stdout",
     "output_type": "stream",
     "text": [
      "after calling stats.linregress: 2.293162124085981\n",
      "{2: -0.05251526358020293, 8: -0.5854395642666966}\n",
      "NorCPM1\n"
     ]
    },
    {
     "name": "stderr",
     "output_type": "stream",
     "text": [
      "/srv/conda/envs/notebook/lib/python3.7/site-packages/dask/core.py:119: RuntimeWarning: invalid value encountered in greater\n",
      "  return func(*args2)\n"
     ]
    },
    {
     "name": "stdout",
     "output_type": "stream",
     "text": [
      "after loading arrays: 2.278935210823463\n"
     ]
    },
    {
     "name": "stderr",
     "output_type": "stream",
     "text": [
      "/srv/conda/envs/notebook/lib/python3.7/site-packages/dask/core.py:119: RuntimeWarning: invalid value encountered in greater\n",
      "  return func(*args2)\n"
     ]
    },
    {
     "name": "stdout",
     "output_type": "stream",
     "text": [
      "after calling stats.linregress: 2.344852620739133\n"
     ]
    },
    {
     "name": "stderr",
     "output_type": "stream",
     "text": [
      "/srv/conda/envs/notebook/lib/python3.7/site-packages/dask/core.py:119: RuntimeWarning: invalid value encountered in greater\n",
      "  return func(*args2)\n"
     ]
    },
    {
     "name": "stdout",
     "output_type": "stream",
     "text": [
      "after loading arrays: 2.3448787251671375\n"
     ]
    },
    {
     "name": "stderr",
     "output_type": "stream",
     "text": [
      "/srv/conda/envs/notebook/lib/python3.7/site-packages/dask/core.py:119: RuntimeWarning: invalid value encountered in greater\n",
      "  return func(*args2)\n"
     ]
    },
    {
     "name": "stdout",
     "output_type": "stream",
     "text": [
      "after calling stats.linregress: 2.3448787251671375\n",
      "{2: -0.006304150701190346, 8: -0.1194523239842785}\n",
      "CanESM5\n"
     ]
    },
    {
     "name": "stderr",
     "output_type": "stream",
     "text": [
      "/srv/conda/envs/notebook/lib/python3.7/site-packages/dask/core.py:119: RuntimeWarning: invalid value encountered in greater\n",
      "  return func(*args2)\n"
     ]
    },
    {
     "name": "stdout",
     "output_type": "stream",
     "text": [
      "after loading arrays: 2.3448787251671375\n"
     ]
    },
    {
     "name": "stderr",
     "output_type": "stream",
     "text": [
      "/srv/conda/envs/notebook/lib/python3.7/site-packages/dask/core.py:119: RuntimeWarning: invalid value encountered in greater\n",
      "  return func(*args2)\n"
     ]
    },
    {
     "name": "stdout",
     "output_type": "stream",
     "text": [
      "after calling stats.linregress: 2.3448787251671375\n"
     ]
    },
    {
     "name": "stderr",
     "output_type": "stream",
     "text": [
      "/srv/conda/envs/notebook/lib/python3.7/site-packages/dask/core.py:119: RuntimeWarning: invalid value encountered in greater\n",
      "  return func(*args2)\n"
     ]
    },
    {
     "name": "stdout",
     "output_type": "stream",
     "text": [
      "after loading arrays: 2.3448787251671375\n"
     ]
    },
    {
     "name": "stderr",
     "output_type": "stream",
     "text": [
      "/srv/conda/envs/notebook/lib/python3.7/site-packages/dask/core.py:119: RuntimeWarning: invalid value encountered in greater\n",
      "  return func(*args2)\n"
     ]
    },
    {
     "name": "stdout",
     "output_type": "stream",
     "text": [
      "after calling stats.linregress: 2.3448787251671375\n",
      "{2: -0.25655977438822264, 8: -0.6034373938761717}\n",
      "MIROC-ES2L\n"
     ]
    },
    {
     "name": "stderr",
     "output_type": "stream",
     "text": [
      "/srv/conda/envs/notebook/lib/python3.7/site-packages/dask/core.py:119: RuntimeWarning: invalid value encountered in greater\n",
      "  return func(*args2)\n"
     ]
    },
    {
     "name": "stdout",
     "output_type": "stream",
     "text": [
      "after loading arrays: 2.3448787251671375\n"
     ]
    },
    {
     "name": "stderr",
     "output_type": "stream",
     "text": [
      "/srv/conda/envs/notebook/lib/python3.7/site-packages/dask/core.py:119: RuntimeWarning: invalid value encountered in greater\n",
      "  return func(*args2)\n"
     ]
    },
    {
     "name": "stdout",
     "output_type": "stream",
     "text": [
      "after calling stats.linregress: 2.3448787251671375\n"
     ]
    },
    {
     "name": "stderr",
     "output_type": "stream",
     "text": [
      "/srv/conda/envs/notebook/lib/python3.7/site-packages/dask/core.py:119: RuntimeWarning: invalid value encountered in greater\n",
      "  return func(*args2)\n"
     ]
    },
    {
     "name": "stdout",
     "output_type": "stream",
     "text": [
      "after loading arrays: 2.3448787251671375\n"
     ]
    },
    {
     "name": "stderr",
     "output_type": "stream",
     "text": [
      "/srv/conda/envs/notebook/lib/python3.7/site-packages/dask/core.py:119: RuntimeWarning: invalid value encountered in greater\n",
      "  return func(*args2)\n"
     ]
    },
    {
     "name": "stdout",
     "output_type": "stream",
     "text": [
      "after calling stats.linregress: 2.3448787251671375\n",
      "{2: -0.10864246830589083, 8: -0.639465597519328}\n"
     ]
    }
   ],
   "source": [
    "slopes_all={}\n",
    "r_all={}\n",
    "\n",
    "if 'CESM2' in models_intersect:\n",
    "    models_intersect.remove('CESM2')\n",
    "    \n",
    "for m in models_intersect:\n",
    "    print(m)\n",
    "    slopes_a, r_a = scatter_tas_SIE_linreg_test(tas_dict[m]['tas_arc_mean'].isel(member_id=0),\n",
    "                                                    si_dict[m]['sie_tot_arc'].isel(member_id=0),\n",
    "                                                    [2,8],False,m)\n",
    "    slopes_all[m] = slopes_a\n",
    "    r_all[m] = r_a\n",
    "#from sys import getsizeof\n",
    "#getsizeof(si_dict[m]['sie_tot_arc'].isel(member_id=0)),getsizeof(slopes_all)"
   ]
  },
  {
   "cell_type": "code",
   "execution_count": 84,
   "metadata": {},
   "outputs": [
    {
     "data": {
      "text/plain": [
       "array([[-0.09876842, -0.05251526, -0.00630415, -0.25655977, -0.10864247],\n",
       "       [-0.39225192, -0.58543956, -0.11945232, -0.60343739, -0.6394656 ]])"
      ]
     },
     "execution_count": 84,
     "metadata": {},
     "output_type": "execute_result"
    }
   ],
   "source": [
    "slopes_plot"
   ]
  },
  {
   "cell_type": "code",
   "execution_count": 112,
   "metadata": {},
   "outputs": [
    {
     "data": {
      "text/plain": [
       "2"
      ]
     },
     "execution_count": 112,
     "metadata": {},
     "output_type": "execute_result"
    }
   ],
   "source": [
    "slopes_plot.shape[0]"
   ]
  },
  {
   "cell_type": "code",
   "execution_count": 114,
   "metadata": {},
   "outputs": [
    {
     "data": {
      "text/plain": [
       "<matplotlib.colorbar.Colorbar at 0x7f63b026e4a8>"
      ]
     },
     "execution_count": 114,
     "metadata": {},
     "output_type": "execute_result"
    },
    {
     "data": {
      "image/png": "[encoded data removed]",
      "text/plain": [
       "<Figure size 720x432 with 2 Axes>"
      ]
     },
     "metadata": {
      "needs_background": "light"
     },
     "output_type": "display_data"
    }
   ],
   "source": [
    "slopes_plot = np.zeros((2,len(slopes_all.keys())))\n",
    "\n",
    "for im, m in enumerate(slopes_all.keys()):\n",
    "    slopes_plot[0,im] = slopes_all[m][2]\n",
    "    slopes_plot[1,im] = slopes_all[m][8]\n",
    "\n",
    "fig = plt.figure(figsize=(10,6))\n",
    "plt.pcolormesh(slopes_plot, cmap='Reds_r')\n",
    "\n",
    "tot=-1\n",
    "for x in range(slopes_plot.shape[0]):\n",
    "    for y in range(slopes_plot.shape[1]):\n",
    "        tot = tot+1\n",
    "        plt.text(y+0.5, x+0.5, np.round(slopes_plot[x,y],3),ha='center',va='center', fontsize=20, color='w')\n",
    "\n",
    "plt.xticks([0.5,1.5,2.5,3.5,4.5],list(slopes_all.keys()),fontsize=14)\n",
    "plt.yticks([0.5,1.5],['March','September'],fontsize=14)\n",
    "plt.title('Slope: mean Arctic temperature vs. total Arctic sea ice extent', fontsize=18)\n",
    "plt.colorbar(label='Slope ((10$^{6}$ km$^{2}$)/K)')"
   ]
  },
  {
   "cell_type": "code",
   "execution_count": null,
   "metadata": {},
   "outputs": [],
   "source": [
    "for m in models_intersect:\n",
    "    slopes_all[m], r_all[m] = scatter_tas_SIE_linreg(tas_dict[m]['tas_arc_mean'].isel(member_id=0),\n",
    "                                                      si_dict[m]['sie_tot_arc'].isel(member_id=0),\n",
    "                                                      [2,8],True,m)"
   ]
  },
  {
   "cell_type": "code",
   "execution_count": null,
   "metadata": {},
   "outputs": [],
   "source": []
  },
  {
   "cell_type": "code",
   "execution_count": null,
   "metadata": {},
   "outputs": [],
   "source": []
  },
  {
   "cell_type": "code",
   "execution_count": null,
   "metadata": {},
   "outputs": [],
   "source": []
  },
  {
   "cell_type": "code",
   "execution_count": null,
   "metadata": {},
   "outputs": [],
   "source": []
  },
  {
   "cell_type": "code",
   "execution_count": null,
   "metadata": {},
   "outputs": [],
   "source": []
  },
  {
   "cell_type": "code",
   "execution_count": null,
   "metadata": {},
   "outputs": [],
   "source": []
  },
  {
   "cell_type": "code",
   "execution_count": 172,
   "metadata": {},
   "outputs": [
    {
     "name": "stderr",
     "output_type": "stream",
     "text": [
      "/srv/conda/envs/notebook/lib/python3.7/site-packages/dask/core.py:119: RuntimeWarning: invalid value encountered in greater\n",
      "  return func(*args2)\n",
      "/srv/conda/envs/notebook/lib/python3.7/site-packages/dask/core.py:119: RuntimeWarning: invalid value encountered in greater\n",
      "  return func(*args2)\n"
     ]
    },
    {
     "data": {
      "image/png": "[encoded data removed]",
      "text/plain": [
       "<Figure size 864x360 with 2 Axes>"
      ]
     },
     "metadata": {
      "needs_background": "light"
     },
     "output_type": "display_data"
    }
   ],
   "source": [
    "slopes_all[m], r_all[m] = scatter_tas_SIE_linreg(tas_dict[m]['tas_arc_mean'].isel(member_id=0),\n",
    "                                                  si_dict[m]['sie_tot_arc'].isel(member_id=0),\n",
    "                                                  [2,8],True,m)"
   ]
  },
  {
   "cell_type": "code",
   "execution_count": 173,
   "metadata": {},
   "outputs": [
    {
     "data": {
      "text/plain": [
       "({'NorCPM1': [-0.006304150701190346, -0.1194523239842785]},\n",
       " {'NorCPM1': [-0.024048084867891974, -0.39030387557152413]})"
      ]
     },
     "execution_count": 173,
     "metadata": {},
     "output_type": "execute_result"
    }
   ],
   "source": [
    "slopes_plot = np.zeros((2,len(slopes_all.keys())))\n",
    "\n",
    "for im, m in enumerate(slopes_all.keys()):\n",
    "    slopes_plot[0,im] = slopes_all[m][0]\n",
    "    slopes_plot[1,im] = slopes_all[m][1]\n",
    "    \n",
    "fig = plt.figure(figsize=(10,6))\n",
    "plt.pcolormesh(slopes_plot, cmap='Reds_r')\n",
    "plt.xticks([0.5,1.5,2.5,3.5],list(slopes_all.keys()),fontsize=14)\n",
    "plt.yticks([0.5,1.5],['March','September'],fontsize=14)\n",
    "plt.title('Slope: mean Arctic temperature vs. total Arctic sea ice extent', fontsize=18)\n",
    "plt.colorbar(label='Slope ((10$^{6}$ km$^{2}$)/K)')"
   ]
  },
  {
   "cell_type": "code",
   "execution_count": null,
   "metadata": {},
   "outputs": [],
   "source": [
    "r_plot = np.zeros((2,len(r_all.keys())))\n",
    "\n",
    "for im, m in enumerate(r_all.keys()):\n",
    "    r_plot[0,im] = r_all[m][0]*r_all[m][0]\n",
    "    r_plot[1,im] = r_all[m][1]*r_all[m][1]\n",
    "    \n",
    "fig = plt.figure(figsize=(10,6))\n",
    "plt.pcolormesh(r_plot, cmap='Reds')\n",
    "plt.xticks([0.5,1.5,2.5,3.5],list(slopes_all.keys()),fontsize=14)\n",
    "plt.yticks([0.5,1.5],['March','September'],fontsize=14)\n",
    "plt.title('R$^{2}$: mean Arctic temperature vs. total Arctic sea ice extent', fontsize=18)\n",
    "plt.colorbar(label='R$^{2}$')"
   ]
  },
  {
   "cell_type": "code",
   "execution_count": null,
   "metadata": {},
   "outputs": [],
   "source": []
  },
  {
   "cell_type": "code",
   "execution_count": null,
   "metadata": {},
   "outputs": [],
   "source": [
    "for m in models_intersect:\n",
    "    slopes_all[m], r_all[m] = scatter_tas_SIE_linreg(tas_dict[m]['tas_arc_mean'].isel(member_id=0),\n",
    "                                                      si_dict[m]['sie_tot_arc'].isel(member_id=0),\n",
    "                                                      [2,8],False,m)"
   ]
  },
  {
   "cell_type": "code",
   "execution_count": null,
   "metadata": {},
   "outputs": [],
   "source": []
  },
  {
   "cell_type": "code",
   "execution_count": null,
   "metadata": {},
   "outputs": [],
   "source": []
  },
  {
   "cell_type": "code",
   "execution_count": null,
   "metadata": {},
   "outputs": [],
   "source": []
  },
  {
   "cell_type": "markdown",
   "metadata": {},
   "source": [
    "#### Take mean across years: "
   ]
  },
  {
   "cell_type": "code",
   "execution_count": 22,
   "metadata": {},
   "outputs": [],
   "source": [
    "month_lab = ['Jan','Feb','Mar','Apr','May','June','Jul','Aug','Sept','Oct','Nov','Dec']"
   ]
  },
  {
   "cell_type": "code",
   "execution_count": 58,
   "metadata": {},
   "outputs": [],
   "source": [
    "# si_mon = si_dict[m]['si_area_tot_arc']\n",
    "# si_mon_mn = si_mon.groupby('time.month').mean('time').isel(member_id=0)\n",
    "# si_mon_std = si_mon.groupby('time.month').std().isel(member_id=0)\n",
    "\n",
    "sie_mon = si_dict[m]['sie_tot_arc']\n",
    "sie_mon_mn = sie_mon.groupby('time.month').mean('time').isel(member_id=0)"
   ]
  },
  {
   "cell_type": "code",
   "execution_count": 59,
   "metadata": {},
   "outputs": [
    {
     "name": "stderr",
     "output_type": "stream",
     "text": [
      "/srv/conda/envs/notebook/lib/python3.7/site-packages/dask/core.py:119: RuntimeWarning: invalid value encountered in greater\n",
      "  return func(*args2)\n"
     ]
    },
    {
     "data": {
      "text/plain": [
       "<matplotlib.legend.Legend at 0x7f0274a37320>"
      ]
     },
     "execution_count": 59,
     "metadata": {},
     "output_type": "execute_result"
    },
    {
     "data": {
      "image/png": "[encoded data removed]",
      "text/plain": [
       "<Figure size 432x288 with 1 Axes>"
      ]
     },
     "metadata": {
      "needs_background": "light"
     },
     "output_type": "display_data"
    }
   ],
   "source": [
    "#si_mon_mn.plot(label='sia mean')\n",
    "sie_mon_mn.plot(label='sie mean')\n",
    "#plt.fill_between(si_mon_mn.month,si_mon_mn-2*si_mon_std,si_mon_mn+2*si_mon_std,alpha=0.3)\n",
    "plt.xticks(np.arange(1,13,1), month_lab)\n",
    "plt.ylabel('Arctic sea ice concentration (km$^{2}$)')\n",
    "plt.title('Total Arctic sea ice concentration: '+m)\n",
    "plt.legend()"
   ]
  },
  {
   "cell_type": "markdown",
   "metadata": {},
   "source": [
    "### Calculate average Arctic surface temperature"
   ]
  },
  {
   "cell_type": "code",
   "execution_count": 38,
   "metadata": {},
   "outputs": [
    {
     "data": {
      "text/plain": [
       "[<matplotlib.lines.Line2D at 0x7f80cf55e940>]"
      ]
     },
     "execution_count": 38,
     "metadata": {},
     "output_type": "execute_result"
    },
    {
     "data": {
      "image/png": "[encoded data removed]",
      "text/plain": [
       "<Figure size 432x288 with 1 Axes>"
      ]
     },
     "metadata": {
      "needs_background": "light"
     },
     "output_type": "display_data"
    }
   ],
   "source": [
    "ts_tas_ArcticAve = si.AverageArctic_airtemperature(tas_dict[m]['tas'],0)\n",
    "ts_tas_ArcticAve.plot()"
   ]
  },
  {
   "cell_type": "code",
   "execution_count": 19,
   "metadata": {},
   "outputs": [],
   "source": [
    "def arctic_mean(VAR_DICT,VAR,MIN_LAT):\n",
    "    ones_full = np.ones((VAR.isel(time=0,member_id=0).shape))\n",
    "    area_weight = np.cos(np.deg2rad(VAR_DICT.lat)).expand_dims('lon',axis=1)*ones_full\n",
    "\n",
    "    var_armn = (VAR*area_weight).sel(lat=slice(MIN_LAT,90)).sum(\n",
    "        dim=['lat','lon'])/(area_weight.sel(lat=slice(MIN_LAT,90)).sum(dim=['lat','lon']))\n",
    "    return var_armn"
   ]
  },
  {
   "cell_type": "code",
   "execution_count": null,
   "metadata": {},
   "outputs": [],
   "source": []
  }
 ],
 "metadata": {
  "kernelspec": {
   "display_name": "Python 3",
   "language": "python",
   "name": "python3"
  },
  "language_info": {
   "codemirror_mode": {
    "name": "ipython",
    "version": 3
   },
   "file_extension": ".py",
   "mimetype": "text/x-python",
   "name": "python",
   "nbconvert_exporter": "python",
   "pygments_lexer": "ipython3",
   "version": "3.7.3"
  }
 },
 "nbformat": 4,
 "nbformat_minor": 4
}
