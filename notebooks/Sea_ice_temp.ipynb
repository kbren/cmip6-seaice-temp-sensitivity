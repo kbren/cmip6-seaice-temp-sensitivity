{
 "cells": [
  {
   "cell_type": "markdown",
   "metadata": {},
   "source": [
    "# CMIP6 Hackathon: Sea ice and temperature sensitivity\n",
    "\n",
    "October 2019  \n",
    "Maddie Smith, Robin Clancy, Katie Brennan, Ed Blanchard-Wrigglesworth  \n"
   ]
  },
  {
   "cell_type": "code",
   "execution_count": 2,
   "metadata": {},
   "outputs": [
    {
     "name": "stderr",
     "output_type": "stream",
     "text": [
      "/srv/conda/envs/notebook/lib/python3.7/site-packages/intake/source/discovery.py:136: FutureWarning: The drivers ['stac-catalog', 'stac-collection', 'stac-item'] do not specify entry_points and were only discovered via a package scan. This may break in a future release of intake. The packages should be updated.\n",
      "  FutureWarning)\n"
     ]
    }
   ],
   "source": [
    "%matplotlib inline\n",
    "\n",
    "import xarray as xr\n",
    "import intake\n",
    "\n",
    "# util.py is in the local directory\n",
    "# it contains code that is common across project notebooks\n",
    "# or routines that are too extensive and might otherwise clutter\n",
    "# the notebook design\n",
    "import util "
   ]
  },
  {
   "cell_type": "code",
   "execution_count": 3,
   "metadata": {},
   "outputs": [],
   "source": [
    "if util.is_ncar_host():\n",
    "    col = intake.open_esm_datastore(\"../catalogs/glade-cmip6.json\")\n",
    "else:\n",
    "    col = intake.open_esm_datastore(\"../catalogs/pangeo-cmip6.json\")\n",
    "#col"
   ]
  },
  {
   "cell_type": "code",
   "execution_count": 4,
   "metadata": {},
   "outputs": [
    {
     "data": {
      "text/plain": [
       "Index(['activity_id', 'institution_id', 'source_id', 'experiment_id',\n",
       "       'member_id', 'table_id', 'variable_id', 'grid_label', 'zstore',\n",
       "       'dcpp_init_year'],\n",
       "      dtype='object')"
      ]
     },
     "execution_count": 4,
     "metadata": {},
     "output_type": "execute_result"
    }
   ],
   "source": [
    "col.df.columns"
   ]
  },
  {
   "cell_type": "code",
   "execution_count": 5,
   "metadata": {},
   "outputs": [
    {
     "name": "stdout",
     "output_type": "stream",
     "text": [
      "{'experiment_id': {'count': 29,\n",
      "                   'values': ['ssp370', 'esm-ssp585', '1pctCO2-bgc', 'hist-bgc',\n",
      "                              '1pctCO2', 'abrupt-4xCO2', 'historical',\n",
      "                              'piControl', 'amip', 'esm-hist', 'esm-piControl',\n",
      "                              'hist-GHG', 'hist-aer', 'hist-nat', 'dcppA-assim',\n",
      "                              'dcppA-hindcast', 'dcppC-hindcast-noAgung',\n",
      "                              'dcppC-hindcast-noElChichon',\n",
      "                              'dcppC-hindcast-noPinatubo', 'highresSST-present',\n",
      "                              'control-1950', 'hist-1950', 'deforest-globe',\n",
      "                              'esm-ssp585-ssp126Lu', 'omip1', 'lgm', 'ssp126',\n",
      "                              'ssp245', 'ssp585']},\n",
      " 'source_id': {'count': 48,\n",
      "               'values': ['BCC-ESM1', 'BCC-CSM2-MR', 'CanESM5', 'CNRM-ESM2-1',\n",
      "                          'UKESM1-0-LL', 'GISS-E2-1-G', 'CESM2', 'GFDL-ESM4',\n",
      "                          'AWI-CM-1-1-MR', 'CAMS-CSM1-0', 'FGOALS-f3-L',\n",
      "                          'FGOALS-g3', 'CNRM-CM6-1', 'E3SM-1-0', 'EC-Earth3-LR',\n",
      "                          'EC-Earth3-Veg', 'EC-Earth3', 'FIO-ESM-2-0',\n",
      "                          'IPSL-CM6A-LR', 'MIROC-ES2L', 'MIROC6',\n",
      "                          'HadGEM3-GC31-LL', 'HadGEM3-GC31-MM', 'MRI-ESM2-0',\n",
      "                          'GISS-E2-1-G-CC', 'GISS-E2-1-H', 'CESM2-WACCM',\n",
      "                          'NorCPM1', 'GFDL-AM4', 'GFDL-CM4', 'NESM3',\n",
      "                          'SAM0-UNICON', 'MCM-UA-1-0', 'CMCC-CM2-HR4',\n",
      "                          'CMCC-CM2-VHR4', 'CNRM-CM6-1-HR', 'ECMWF-IFS-HR',\n",
      "                          'ECMWF-IFS-LR', 'IPSL-CM6A-ATM-HR', 'NICAM16-7S',\n",
      "                          'NICAM16-8S', 'NICAM16-9S', 'HadGEM3-GC31-HM',\n",
      "                          'HadGEM3-GC31-LM', 'MRI-AGCM3-2-H', 'MRI-AGCM3-2-S',\n",
      "                          'GFDL-CM4C192', 'MPI-ESM1-2-HR']},\n",
      " 'table_id': {'count': 23,\n",
      "              'values': ['Amon', 'Lmon', 'Oyr', 'Omon', 'SImon', 'day', '3hr',\n",
      "                         '6hrLev', 'LImon', 'Aclim', 'Ofx', 'fx', 'Emon',\n",
      "                         '6hrPlev', 'Oclim', 'SIclim', 'Eclim', 'Odec',\n",
      "                         'AERmon', 'ImonGre', '6hrPlevPt', 'CF3hr', 'E3hr']}}\n"
     ]
    }
   ],
   "source": [
    "import pprint \n",
    "uni_dict = col.unique(['source_id', 'experiment_id', 'table_id'])\n",
    "pprint.pprint(uni_dict, compact=True)"
   ]
  },
  {
   "cell_type": "code",
   "execution_count": 6,
   "metadata": {},
   "outputs": [],
   "source": [
    "cat_siconc = col.search(experiment_id=['historical'],table_id='SImon', \n",
    "                        variable_id='siconc', grid_label='gn')"
   ]
  },
  {
   "cell_type": "code",
   "execution_count": 7,
   "metadata": {},
   "outputs": [],
   "source": [
    "cat_cellarea = col.search(experiment_id=['historical'],table_id='Ofx', \n",
    "                          variable_id='areacello', grid_label='gn')\n",
    "#cat_cellarea"
   ]
  },
  {
   "cell_type": "markdown",
   "metadata": {},
   "source": [
    "#### Find variables models that contain certain variables"
   ]
  },
  {
   "cell_type": "code",
   "execution_count": 8,
   "metadata": {},
   "outputs": [
    {
     "data": {
      "text/plain": [
       "['MIROC-ES2L',\n",
       " 'NorCPM1',\n",
       " 'IPSL-CM6A-LR',\n",
       " 'CanESM5',\n",
       " 'EC-Earth3-Veg',\n",
       " 'CESM2',\n",
       " 'MIROC6',\n",
       " 'EC-Earth3',\n",
       " 'CNRM-CM6-1',\n",
       " 'CNRM-ESM2-1',\n",
       " 'SAM0-UNICON']"
      ]
     },
     "execution_count": 8,
     "metadata": {},
     "output_type": "execute_result"
    }
   ],
   "source": [
    "models_intersect = set(uni_dict['source_id']['values']) # all the models\n",
    "table_id = ['SImon','Ofx']\n",
    "\n",
    "for v,variable_id in enumerate(['siconc','areacello']):\n",
    "    query = dict(experiment_id='historical', table_id=table_id[v], \n",
    "                 variable_id=variable_id, grid_label='gn')  \n",
    "    cat = col.search(**query)\n",
    "    models_intersect = models_intersect.intersection(\n",
    "        {model_intersect for model_intersect in cat.df.source_id.unique().tolist()})\n",
    "\n",
    "# ensure the CESM2 models are not included (oxygen was erroneously submitted to the archive)\n",
    "# models = models - {'CESM2-WACCM', 'CESM2'}\n",
    "\n",
    "models_intersect = list(models_intersect)\n",
    "models_intersect"
   ]
  },
  {
   "cell_type": "markdown",
   "metadata": {},
   "source": [
    "### Load data: "
   ]
  },
  {
   "cell_type": "code",
   "execution_count": 111,
   "metadata": {},
   "outputs": [],
   "source": [
    "ardset_dict = cat_cellarea.to_dataset_dict(zarr_kwargs={'consolidated': True, 'decode_times': False}, \n",
    "                                           cdf_kwargs={'chunks': {}, 'decode_times': False})"
   ]
  },
  {
   "cell_type": "code",
   "execution_count": 112,
   "metadata": {},
   "outputs": [],
   "source": [
    "sidset_dict = cat_siconc.to_dataset_dict(zarr_kwargs={'consolidated': True, 'decode_times': False}, \n",
    "                                         cdf_kwargs={'chunks': {}, 'decode_times': False})"
   ]
  },
  {
   "cell_type": "code",
   "execution_count": 113,
   "metadata": {},
   "outputs": [],
   "source": [
    "model_name_dict = {ardset_dict[x].attrs['source_id']: x for x in ardset_dict}\n",
    "si_dict = {}\n",
    "\n",
    "for key, item in sidset_dict.items():\n",
    "    model = item.attrs['source_id']\n",
    "    if model in models_intersect: \n",
    "        si_dict[model] = item\n",
    "        si_dict[model]['areacello'] = ardset_dict[model_name_dict[model]]['areacello']"
   ]
  },
  {
   "cell_type": "markdown",
   "metadata": {},
   "source": [
    "### Calculate total Arctic sea ice area: "
   ]
  },
  {
   "cell_type": "code",
   "execution_count": 91,
   "metadata": {},
   "outputs": [],
   "source": [
    "m=models_intersect[0]\n",
    "si_dict[m]['si_area'] = si_dict[m].areacello*si_dict[m].siconc/100.0\n",
    "si_dict[m]['si_area'].attrs['units'] = si_dict[m].areacello.attrs['units']\n",
    "si_dict[m]['si_area_tot_arc'] = si_dict[m].si_area.where(si_dict[m].latitude>0).sum(dim=['x','y'])/(1000*1000)\n",
    "si_dict[m]['si_area_tot_arc'].attrs['units'] = 'km2'"
   ]
  },
  {
   "cell_type": "code",
   "execution_count": null,
   "metadata": {},
   "outputs": [],
   "source": []
  },
  {
   "cell_type": "code",
   "execution_count": 53,
   "metadata": {},
   "outputs": [
    {
     "data": {
      "text/plain": [
       "[<matplotlib.lines.Line2D at 0x7f47d82146d8>]"
      ]
     },
     "execution_count": 53,
     "metadata": {},
     "output_type": "execute_result"
    },
    {
     "data": {
      "image/png": "[encoded data removed]",
      "text/plain": [
       "<Figure size 432x288 with 1 Axes>"
      ]
     },
     "metadata": {
      "needs_background": "light"
     },
     "output_type": "display_data"
    }
   ],
   "source": [
    "si_dict[m]['si_area_tot_arc'].isel(member_id=1).plot()"
   ]
  },
  {
   "cell_type": "code",
   "execution_count": 114,
   "metadata": {},
   "outputs": [
    {
     "data": {
      "text/plain": [
       "{'units': 'hours since 1850-01-16 12:00:00.000000', 'dtype': 'float64'}"
      ]
     },
     "execution_count": 114,
     "metadata": {},
     "output_type": "execute_result"
    }
   ],
   "source": [
    "si_dict[m]['si_area_tot_arc'].time.encoding"
   ]
  },
  {
   "cell_type": "code",
   "execution_count": null,
   "metadata": {},
   "outputs": [],
   "source": []
  },
  {
   "cell_type": "code",
   "execution_count": null,
   "metadata": {},
   "outputs": [],
   "source": []
  },
  {
   "cell_type": "code",
   "execution_count": null,
   "metadata": {},
   "outputs": [],
   "source": []
  },
  {
   "cell_type": "code",
   "execution_count": null,
   "metadata": {},
   "outputs": [],
   "source": []
  },
  {
   "cell_type": "code",
   "execution_count": null,
   "metadata": {},
   "outputs": [],
   "source": []
  },
  {
   "cell_type": "code",
   "execution_count": 75,
   "metadata": {},
   "outputs": [],
   "source": [
    "import numpy as np"
   ]
  },
  {
   "cell_type": "code",
   "execution_count": 77,
   "metadata": {},
   "outputs": [],
   "source": [
    "attrs = {'units': 'hours since 1850-01-16 12:00:00.000000'}\n",
    "ds = xr.Dataset({'time': ('time', np.arange(0,1445616,708), attrs)})"
   ]
  },
  {
   "cell_type": "code",
   "execution_count": 87,
   "metadata": {},
   "outputs": [
    {
     "data": {
      "text/plain": [
       "<xarray.Dataset>\n",
       "Dimensions:             (bnds: 2, member_id: 3, time: 1980, vertices: 4, x: 360, y: 256)\n",
       "Coordinates:\n",
       "  * time                (time) int64 0 708 1416 2148 ... 1444152 1444884 1445616\n",
       "  * x                   (x) float64 0.5 1.5 2.5 3.5 ... 356.5 357.5 358.5 359.5\n",
       "  * y                   (y) float64 -88.0 -85.75 -85.25 ... 148.6 150.5 152.4\n",
       "  * member_id           (member_id) <U8 'r1i1p1f2' 'r2i1p1f2' 'r3i1p1f2'\n",
       "Dimensions without coordinates: bnds, vertices\n",
       "Data variables:\n",
       "    longitude           (y, x) float32 dask.array<chunksize=(256, 360), meta=np.ndarray>\n",
       "    time_bnds           (time, bnds) float64 dask.array<chunksize=(1980, 2), meta=np.ndarray>\n",
       "    vertices_latitude   (y, x, vertices) float32 dask.array<chunksize=(256, 360, 4), meta=np.ndarray>\n",
       "    type                |S7 ...\n",
       "    x_bnds              (x, bnds) float64 dask.array<chunksize=(360, 2), meta=np.ndarray>\n",
       "    vertices_longitude  (y, x, vertices) float32 dask.array<chunksize=(256, 360, 4), meta=np.ndarray>\n",
       "    latitude            (y, x) float32 dask.array<chunksize=(256, 360), meta=np.ndarray>\n",
       "    y_bnds              (y, bnds) float64 dask.array<chunksize=(256, 2), meta=np.ndarray>\n",
       "    siconc              (member_id, time, y, x) float32 dask.array<chunksize=(1, 600, 256, 360), meta=np.ndarray>\n",
       "    areacello           (member_id, y, x) float32 dask.array<chunksize=(1, 256, 360), meta=np.ndarray>\n",
       "    si_area             (member_id, y, x, time) float32 dask.array<chunksize=(1, 256, 360, 600), meta=np.ndarray>\n",
       "    si_area_tot_arc     (member_id, time) float64 dask.array<chunksize=(1, 600), meta=np.ndarray>\n",
       "    time_dt             (time) datetime64[ns] NaT NaT NaT NaT ... NaT NaT NaT\n",
       "Attributes:\n",
       "    forcing_index:          2\n",
       "    parent_time_units:      days since 1850-1-1\n",
       "    variant_label:          r3i1p1f2\n",
       "    parent_experiment_id:   piControl\n",
       "    branch_time_in_parent:  7305.0\n",
       "    institution_id:         MIROC\n",
       "    nominal_resolution:     100 km\n",
       "    further_info_url:       https://furtherinfo.es-doc.org/CMIP6.MIROC.MIROC-...\n",
       "    branch_method:          standard\n",
       "    parent_activity_id:     CMIP\n",
       "    history:                2019-06-27T05:03:35Z ; CMOR rewrote data to be co...\n",
       "    branch_time_in_child:   0.0\n",
       "    data_specs_version:     01.00.28\n",
       "    frequency:              mon\n",
       "    cmor_version:           3.3.2\n",
       "    Conventions:            CF-1.7 CMIP-6.2\n",
       "    parent_source_id:       MIROC-ES2L\n",
       "    grid:                   native ocean tripolar grid with 360x256 cells\n",
       "    sub_experiment_id:      none\n",
       "    experiment:             all-forcing simulation of the recent past\n",
       "    parent_variant_label:   r1i1p1f2\n",
       "    source:                 MIROC-ES2L (2018): \\naerosol: SPRINTARS6.0\\natmos...\n",
       "    sub_experiment:         none\n",
       "    institution:            JAMSTEC (Japan Agency for Marine-Earth Science an...\n",
       "    source_id:              MIROC-ES2L\n",
       "    table_id:               SImon\n",
       "    parent_mip_era:         CMIP6\n",
       "    physics_index:          1\n",
       "    experiment_id:          historical\n",
       "    activity_id:            CMIP\n",
       "    external_variables:     areacello\n",
       "    realm:                  seaIce\n",
       "    product:                model-output\n",
       "    tracking_id:            hdl:21.14100/63d85517-e336-4624-a7fe-7b3fcb467a19...\n",
       "    source_type:            AOGCM AER BGC\n",
       "    license:                CMIP6 model data produced by MIROC is licensed un...\n",
       "    table_info:             Creation Date:(06 November 2018) MD5:0728c79344e0...\n",
       "    variable_id:            siconc\n",
       "    grid_label:             gn\n",
       "    mip_era:                CMIP6\n",
       "    realization_index:      3\n",
       "    creation_date:          2019-07-01T09:17:43Z\n",
       "    initialization_index:   1\n",
       "    title:                  MIROC-ES2L output prepared for CMIP6"
      ]
     },
     "execution_count": 87,
     "metadata": {},
     "output_type": "execute_result"
    }
   ],
   "source": [
    "si_dict[m]['time_dt'] = xr.decode_cf(ds).time\n",
    "si_dict[m]"
   ]
  },
  {
   "cell_type": "markdown",
   "metadata": {},
   "source": [
    "### Find overlapping runs that have both sea ice and cell area"
   ]
  },
  {
   "cell_type": "code",
   "execution_count": 103,
   "metadata": {},
   "outputs": [],
   "source": [
    "sidset_keys = list(sidset_dict.keys())\n",
    "ardset_keys = list(ardset_dict.keys())\n",
    "\n",
    "#dset_keys = list(set(sidset_keys)-set(ardset_keys))"
   ]
  },
  {
   "cell_type": "code",
   "execution_count": 171,
   "metadata": {},
   "outputs": [],
   "source": [
    "ardset_source = {}\n",
    "for i in ardset_keys:\n",
    "    ardset_source[ardset_dict[i].source_id]=i\n",
    "    \n",
    "sidset_source = {}\n",
    "for i in sidset_keys:\n",
    "    sidset_source[sidset_dict[i].source_id]=i\n",
    "    \n",
    "models_intersect = list(set(sidset_source.keys()).intersection(set(ardset_source.keys())))"
   ]
  },
  {
   "cell_type": "code",
   "execution_count": 196,
   "metadata": {},
   "outputs": [],
   "source": [
    "siconc_ar = ardset_dict[ardset_source[models_intersect[0]]].areacello*sidset_dict[sidset_source[models_intersect[0]]].siconc\n",
    "siconc_tot1 = siconc_ar[:,150:,:,:].sum(axis=1)\n",
    "siconc_tot = siconc_tot1.sum(axis=1)"
   ]
  },
  {
   "cell_type": "code",
   "execution_count": 197,
   "metadata": {},
   "outputs": [
    {
     "data": {
      "text/plain": [
       "[<matplotlib.lines.Line2D at 0x7f6659e0da90>]"
      ]
     },
     "execution_count": 197,
     "metadata": {},
     "output_type": "execute_result"
    },
    {
     "data": {
      "image/png": "[encoded data removed]",
      "text/plain": [
       "<Figure size 432x288 with 1 Axes>"
      ]
     },
     "metadata": {
      "needs_background": "light"
     },
     "output_type": "display_data"
    }
   ],
   "source": [
    "siconc_tot.plot()"
   ]
  },
  {
   "cell_type": "code",
   "execution_count": 185,
   "metadata": {},
   "outputs": [
    {
     "data": {
      "text/plain": [
       "<xarray.DataArray (member_id: 1, j: 292, i: 362, time: 1980)>\n",
       "dask.array<mul, shape=(1, 292, 362, 1980), dtype=float32, chunksize=(1, 292, 362, 120), chunktype=numpy.ndarray>\n",
       "Coordinates:\n",
       "  * member_id  (member_id) object 'r1i1p1f1'\n",
       "  * i          (i) int32 1 2 3 4 5 6 7 8 9 ... 355 356 357 358 359 360 361 362\n",
       "  * j          (j) int32 1 2 3 4 5 6 7 8 9 ... 285 286 287 288 289 290 291 292\n",
       "  * time       (time) int64 0 708 1416 2148 ... 1443420 1444152 1444884 1445616"
      ]
     },
     "execution_count": 185,
     "metadata": {},
     "output_type": "execute_result"
    }
   ],
   "source": [
    "siconc_ar"
   ]
  },
  {
   "cell_type": "code",
   "execution_count": 182,
   "metadata": {},
   "outputs": [
    {
     "data": {
      "text/plain": [
       "<matplotlib.collections.QuadMesh at 0x7f6673d30a20>"
      ]
     },
     "execution_count": 182,
     "metadata": {},
     "output_type": "execute_result"
    },
    {
     "data": {
      "image/png": "[encoded data removed]",
      "text/plain": [
       "<Figure size 432x288 with 2 Axes>"
      ]
     },
     "metadata": {
      "needs_background": "light"
     },
     "output_type": "display_data"
    }
   ],
   "source": [
    "siconc_ar[0,:,:,1].plot()"
   ]
  },
  {
   "cell_type": "code",
   "execution_count": 178,
   "metadata": {},
   "outputs": [
    {
     "data": {
      "text/plain": [
       "<xarray.DataArray 'siconc' (member_id: 1, time: 1980, j: 292, i: 362)>\n",
       "dask.array<transpose, shape=(1, 1980, 292, 362), dtype=float32, chunksize=(1, 120, 292, 362), chunktype=numpy.ndarray>\n",
       "Coordinates:\n",
       "  * i          (i) int32 1 2 3 4 5 6 7 8 9 ... 355 356 357 358 359 360 361 362\n",
       "  * time       (time) int64 0 708 1416 2148 ... 1443420 1444152 1444884 1445616\n",
       "  * j          (j) int32 1 2 3 4 5 6 7 8 9 ... 285 286 287 288 289 290 291 292\n",
       "  * member_id  (member_id) <U8 'r1i1p1f1'\n",
       "Attributes:\n",
       "    cell_measures:  area: areacello\n",
       "    cell_methods:   area: mean where sea time: mean\n",
       "    comment:        Percentage of grid cell covered by sea ice\n",
       "    long_name:      Sea-Ice Area Percentage (Ocean Grid)\n",
       "    original_name:  siconc\n",
       "    standard_name:  sea_ice_area_fraction\n",
       "    units:          %"
      ]
     },
     "execution_count": 178,
     "metadata": {},
     "output_type": "execute_result"
    }
   ],
   "source": [
    "sidset_dict[sidset_source[models_intersect[0]]].siconc"
   ]
  },
  {
   "cell_type": "code",
   "execution_count": null,
   "metadata": {},
   "outputs": [],
   "source": []
  },
  {
   "cell_type": "code",
   "execution_count": 105,
   "metadata": {},
   "outputs": [
    {
     "data": {
      "text/plain": [
       "<xarray.DataArray 'siconc' (time: 1980, y: 294, x: 362)>\n",
       "dask.array<getitem, shape=(1980, 294, 362), dtype=float32, chunksize=(600, 294, 362), chunktype=numpy.ndarray>\n",
       "Coordinates:\n",
       "  * time       (time) float64 15.5 45.0 74.5 ... 6.019e+04 6.022e+04 6.025e+04\n",
       "    member_id  <U8 'r2i1p1f2'\n",
       "Dimensions without coordinates: y, x\n",
       "Attributes:\n",
       "    cell_measures:       area: areacello\n",
       "    cell_methods:        area: mean where sea time: mean\n",
       "    description:         Sea Ice Area Fraction (Ocean Grid)\n",
       "    history:             none\n",
       "    interval_operation:  1800 s\n",
       "    interval_write:      1 month\n",
       "    long_name:           Sea Ice Area Fraction (Ocean Grid)\n",
       "    online_operation:    average\n",
       "    standard_name:       sea_ice_area_fraction\n",
       "    units:               %"
      ]
     },
     "execution_count": 105,
     "metadata": {},
     "output_type": "execute_result"
    }
   ],
   "source": [
    "sidset_dict[dset_keys[0]].siconc[1,:,:,:]"
   ]
  },
  {
   "cell_type": "code",
   "execution_count": 110,
   "metadata": {},
   "outputs": [
    {
     "ename": "KeyError",
     "evalue": "'CMIP.CNRM-CERFACS.CNRM-ESM2-1.historical.SImon.gn'",
     "output_type": "error",
     "traceback": [
      "\u001b[0;31m---------------------------------------------------------------------------\u001b[0m",
      "\u001b[0;31mKeyError\u001b[0m                                  Traceback (most recent call last)",
      "\u001b[0;32m<ipython-input-110-d9329fba8c9f>\u001b[0m in \u001b[0;36m<module>\u001b[0;34m\u001b[0m\n\u001b[0;32m----> 1\u001b[0;31m \u001b[0mardset_dict\u001b[0m\u001b[0;34m[\u001b[0m\u001b[0mdset_keys\u001b[0m\u001b[0;34m[\u001b[0m\u001b[0;36m0\u001b[0m\u001b[0;34m]\u001b[0m\u001b[0;34m]\u001b[0m\u001b[0;34m.\u001b[0m\u001b[0mareacello\u001b[0m\u001b[0;34m\u001b[0m\u001b[0;34m\u001b[0m\u001b[0m\n\u001b[0m",
      "\u001b[0;31mKeyError\u001b[0m: 'CMIP.CNRM-CERFACS.CNRM-ESM2-1.historical.SImon.gn'"
     ]
    }
   ],
   "source": [
    "ardset_dict[dset_keys[0]].areacello"
   ]
  },
  {
   "cell_type": "code",
   "execution_count": 112,
   "metadata": {},
   "outputs": [
    {
     "data": {
      "text/plain": [
       "dict_keys(['CMIP.CCCma.CanESM5.historical.Ofx.gn', 'CMIP.CNRM-CERFACS.CNRM-CM6-1.historical.Ofx.gn', 'CMIP.CNRM-CERFACS.CNRM-ESM2-1.historical.Ofx.gn', 'CMIP.EC-Earth-Consortium.EC-Earth3.historical.Ofx.gn', 'CMIP.EC-Earth-Consortium.EC-Earth3-Veg.historical.Ofx.gn', 'CMIP.IPSL.IPSL-CM6A-LR.historical.Ofx.gn', 'CMIP.MIROC.MIROC-ES2L.historical.Ofx.gn', 'CMIP.MIROC.MIROC6.historical.Ofx.gn', 'CMIP.NCAR.CESM2.historical.Ofx.gn', 'CMIP.NCC.NorCPM1.historical.Ofx.gn', 'CMIP.NOAA-GFDL.GFDL-ESM4.historical.Ofx.gn', 'CMIP.SNU.SAM0-UNICON.historical.Ofx.gn', 'CMIP.UA.MCM-UA-1-0.historical.Ofx.gn'])"
      ]
     },
     "execution_count": 112,
     "metadata": {},
     "output_type": "execute_result"
    }
   ],
   "source": [
    "ardset_dict.keys()"
   ]
  },
  {
   "cell_type": "code",
   "execution_count": 113,
   "metadata": {},
   "outputs": [
    {
     "data": {
      "text/plain": [
       "['CMIP.CNRM-CERFACS.CNRM-ESM2-1.historical.SImon.gn',\n",
       " 'CMIP.MIROC.MIROC6.historical.SImon.gn',\n",
       " 'CMIP.MOHC.UKESM1-0-LL.historical.SImon.gn',\n",
       " 'CMIP.EC-Earth-Consortium.EC-Earth3.historical.SImon.gn',\n",
       " 'CMIP.EC-Earth-Consortium.EC-Earth3-Veg.historical.SImon.gn',\n",
       " 'CMIP.MIROC.MIROC-ES2L.historical.SImon.gn',\n",
       " 'CMIP.CAMS.CAMS-CSM1-0.historical.SImon.gn',\n",
       " 'CMIP.MRI.MRI-ESM2-0.historical.SImon.gn',\n",
       " 'CMIP.IPSL.IPSL-CM6A-LR.historical.SImon.gn',\n",
       " 'CMIP.NCAR.CESM2.historical.SImon.gn',\n",
       " 'CMIP.NCC.NorCPM1.historical.SImon.gn',\n",
       " 'CMIP.NOAA-GFDL.GFDL-CM4.historical.SImon.gn',\n",
       " 'CMIP.SNU.SAM0-UNICON.historical.SImon.gn',\n",
       " 'CMIP.NCAR.CESM2-WACCM.historical.SImon.gn',\n",
       " 'CMIP.CCCma.CanESM5.historical.SImon.gn',\n",
       " 'CMIP.MOHC.HadGEM3-GC31-LL.historical.SImon.gn',\n",
       " 'CMIP.CNRM-CERFACS.CNRM-CM6-1.historical.SImon.gn',\n",
       " 'CMIP.NUIST.NESM3.historical.SImon.gn']"
      ]
     },
     "execution_count": 113,
     "metadata": {},
     "output_type": "execute_result"
    }
   ],
   "source": [
    "dset_keys"
   ]
  },
  {
   "cell_type": "code",
   "execution_count": null,
   "metadata": {},
   "outputs": [],
   "source": []
  },
  {
   "cell_type": "code",
   "execution_count": null,
   "metadata": {},
   "outputs": [],
   "source": []
  },
  {
   "cell_type": "code",
   "execution_count": null,
   "metadata": {},
   "outputs": [],
   "source": []
  }
 ],
 "metadata": {
  "kernelspec": {
   "display_name": "Python 3",
   "language": "python",
   "name": "python3"
  },
  "language_info": {
   "codemirror_mode": {
    "name": "ipython",
    "version": 3
   },
   "file_extension": ".py",
   "mimetype": "text/x-python",
   "name": "python",
   "nbconvert_exporter": "python",
   "pygments_lexer": "ipython3",
   "version": "3.7.3"
  }
 },
 "nbformat": 4,
 "nbformat_minor": 4
}
